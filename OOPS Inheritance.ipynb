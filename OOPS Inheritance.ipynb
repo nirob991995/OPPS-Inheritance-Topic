{
 "cells": [
  {
   "cell_type": "markdown",
   "id": "0f1b76c5",
   "metadata": {},
   "source": [
    "Topic : Inheritance\n",
    "    \n",
    "- 1. Single inheritance (## refer Ritesh video edyoda ##)\n",
    "\n",
    "- 2. Multi-level inheritance\n",
    "- 3. Hierarchical inheritance\n",
    "- 4. Multiple Inheritance\n",
    "- 5. Hybrid (Multilevel, hierarchical, multiple )(## you practice this using above combination ##)\n"
   ]
  },
  {
   "cell_type": "code",
   "execution_count": null,
   "id": "f826b22f",
   "metadata": {},
   "outputs": [],
   "source": [
    "\n",
    "# 2. Mult-ilevel inheritance \n",
    "\n",
    "\n",
    "# There is a link between every classes like-  ( Grandfather --> father --> you --> your son.  etc.)\n",
    "\n",
    "\n",
    "\"\"\"\n",
    "\n",
    "In this case Son class can access both father and grandfather class's data members/functions/methods and similar way \n",
    "father class can access Grandfather's class data members/functions/methods but most importantly father class can't access\n",
    "son class that's why it is called Multi-level inheritance\n",
    "\n",
    "\n",
    "(Note : child class can only access their parent/base class's data members/func/method)\n",
    "\n",
    "\n",
    "\"\"\"\n",
    "\n",
    "\n",
    "class Grandfather:\n",
    "    \n",
    "    def __init__(self, g_name, **kwargs):\n",
    "        self.g_father=g_name\n",
    "        print(\"init of grand father\")\n",
    "        \n",
    "        #super().__init__(**kwargs)       # no need to write here actually\n",
    "    \n",
    "    \n",
    "    def gf_fun(self):\n",
    "        print(\"Grand father class functions\")   \n",
    "\n",
    "        \n",
    "        \n",
    "class Father(Grandfather):\n",
    "    \n",
    "    def __init__(self, f_name, **kwargs):\n",
    "        print(\"init of father\")\n",
    "        self.father_name = f_name\n",
    "        super().__init__(**kwargs)\n",
    "        \n",
    "        #self.father_name = f_name  -->we can use any where above or below super() inside init only\n",
    "    \n",
    "    \n",
    "    def f_fun(self):\n",
    "        print(\"Father class function\")\n",
    "        \n",
    "        \n",
    "        \n",
    "class Son(Father):\n",
    "    \n",
    "    def __init__(self, s_name, f, g):\n",
    "        self.son_name=s_name\n",
    "        print(\"init of son\")\n",
    "        \n",
    "        super().__init__(f_name = f, g_name = g)\n",
    "        \n",
    "        \n",
    "    def s_fun(self):\n",
    "        print(\"son class function\")\n",
    "        "
   ]
  },
  {
   "cell_type": "code",
   "execution_count": null,
   "id": "5e02a85b",
   "metadata": {},
   "outputs": [],
   "source": [
    "# creating a son class's object\n",
    "\n",
    "s=Son(\"SON NAME\", \"FATHER NAME\", \"GRANDPAA NAME\")"
   ]
  },
  {
   "cell_type": "code",
   "execution_count": null,
   "id": "a49eaf8c",
   "metadata": {},
   "outputs": [],
   "source": [
    "s.son_name,s.father_name,s.g_father"
   ]
  },
  {
   "cell_type": "code",
   "execution_count": null,
   "id": "8298f22f",
   "metadata": {},
   "outputs": [],
   "source": [
    "s.s_fun(),s.f_fun(), s.gf_fun()"
   ]
  },
  {
   "cell_type": "code",
   "execution_count": null,
   "id": "9f7d88ed",
   "metadata": {},
   "outputs": [],
   "source": []
  },
  {
   "cell_type": "code",
   "execution_count": null,
   "id": "a1f6790d",
   "metadata": {},
   "outputs": [],
   "source": [
    "# you can create father object also here use same formate of son "
   ]
  },
  {
   "cell_type": "code",
   "execution_count": null,
   "id": "000b69b0",
   "metadata": {},
   "outputs": [],
   "source": []
  },
  {
   "cell_type": "code",
   "execution_count": null,
   "id": "9c5baac2",
   "metadata": {},
   "outputs": [],
   "source": [
    "\n",
    "# 2. Hierarchical inheritance\n",
    "\n",
    "\n",
    "# There is a link between every classes like-  ( father --> you --> your sister/brother.  etc.)\n",
    "\n",
    "\"\"\"\n",
    "\n",
    "In this case Son class can access father class's data members/functions/methods and daughter can also access father's class \n",
    "data members/functions/methods but most importantly Son class and Daughter class can't access each other that's why \n",
    "it is called Hierarchical inheritance\n",
    "\n",
    "\n",
    "(Note : child class can only access their parent/base class's data members/func/method)\n",
    "\n",
    "\n",
    "\"\"\"\n",
    "\n",
    "\n",
    "\n",
    "class Father:\n",
    "    \n",
    "    def __init__(self, f_name, f_age ,**kwargs):\n",
    "        self.father_name = f_name\n",
    "        print(\"init of father\")\n",
    "        self.father_age=f_age\n",
    "        \n",
    "        # super().__init__(**kwargs)        # no need to provide here actually\n",
    "    \n",
    "    \n",
    "    def f_fun(self):\n",
    "        print(\"father class functions\")   \n",
    "\n",
    "    \n",
    "    \n",
    "class Daughter(Father):\n",
    "    \n",
    "    def __init__(self, d_name, f, a):\n",
    "        print(\"init of daughter\")\n",
    "        super().__init__(f_name=f, f_age=a)\n",
    "        self.daughter_name = d_name\n",
    "    \n",
    "    \n",
    "    def d_fun(self):\n",
    "        print(\"Daughter class function\")\n",
    "        \n",
    "        \n",
    "        \n",
    "class Son(Father):\n",
    "    \n",
    "    def __init__(self, s_name, f, a):\n",
    "        self.son_name=s_name\n",
    "        print(\"init of son\")\n",
    "        \n",
    "        super().__init__(f_name=f, f_age=a)\n",
    "        \n",
    "        \n",
    "    def s_fun(self):\n",
    "        print(\"son class function\")\n",
    "        "
   ]
  },
  {
   "cell_type": "code",
   "execution_count": null,
   "id": "84e57e7f",
   "metadata": {},
   "outputs": [],
   "source": [
    "#creating son class's object \n",
    "\n",
    "s=Son(\"SON NAME\",\"FATHER NAME\",\"FATHER AGE\")"
   ]
  },
  {
   "cell_type": "code",
   "execution_count": null,
   "id": "59630b75",
   "metadata": {},
   "outputs": [],
   "source": [
    "s.son_name, s.father_name, s.father_age"
   ]
  },
  {
   "cell_type": "code",
   "execution_count": null,
   "id": "c73553cc",
   "metadata": {},
   "outputs": [],
   "source": [
    "s.s_fun(),s.f_fun()"
   ]
  },
  {
   "cell_type": "code",
   "execution_count": null,
   "id": "7fa967fb",
   "metadata": {},
   "outputs": [],
   "source": []
  },
  {
   "cell_type": "code",
   "execution_count": null,
   "id": "b8686825",
   "metadata": {},
   "outputs": [],
   "source": [
    "# creating daughter class's object\n",
    "\n",
    "d=Daughter(\"DAUGHTER NAME\",\"FATHER NAME\",\"FATHER AGE\")"
   ]
  },
  {
   "cell_type": "code",
   "execution_count": null,
   "id": "a539b0ce",
   "metadata": {},
   "outputs": [],
   "source": [
    "d.daughter_name, d.father_name, d.father_age"
   ]
  },
  {
   "cell_type": "code",
   "execution_count": null,
   "id": "d735f9fd",
   "metadata": {},
   "outputs": [],
   "source": [
    "d.d_fun(), d.f_fun()"
   ]
  },
  {
   "cell_type": "code",
   "execution_count": null,
   "id": "f2ef736a",
   "metadata": {},
   "outputs": [],
   "source": []
  },
  {
   "cell_type": "code",
   "execution_count": null,
   "id": "79085bdd",
   "metadata": {},
   "outputs": [],
   "source": [
    "\n",
    "\n",
    "# 3. Multiple inheritance\n",
    "\n",
    "\n",
    "# There is a link between every classes like-  ( father --> mother --> you etc.)\n",
    "\n",
    "\n",
    "\"\"\"\n",
    "\n",
    "In this case Son class can access both mother and father class's data members/functions/methods but most importantly \n",
    "father class and mother class can't access each other that's why it is called Multiple inheritance\n",
    "\n",
    "\n",
    "(Note : child class can only access their parent/base class's data members/func/method)\n",
    "\n",
    "\n",
    "\"\"\"\n",
    "\n",
    "\n",
    "\n",
    "class Father:\n",
    "    \n",
    "    def __init__(self, f_name, f_age ,**kwargs):\n",
    "        self.father_name = f_name\n",
    "        print(\"init of father\")\n",
    "        self.father_age=f_age       # your task\n",
    "        super().__init__(**kwargs)  # here is need to provide actually (check yourself if not provide code is running or not)\n",
    "    \n",
    "    \n",
    "    def f_fun(self):\n",
    "        print(\"father class functions\")   \n",
    "\n",
    "    \n",
    "    \n",
    "class Mother:\n",
    "    \n",
    "    def __init__(self, m_name,**kwargs):\n",
    "        print(\"init of mother\")\n",
    "        super().__init__(**kwargs)      #-->we can use any where above or below super() inside init only\n",
    "        self.mother_name = m_name\n",
    "    \n",
    "    \n",
    "    def m_fun(self):\n",
    "        print(\"Mother class function\")\n",
    "        \n",
    "        \n",
    "        \n",
    "class Son(Father,Mother):  # here order of base class does't matter actually but try to keep in order (you change and check)\n",
    "    \n",
    "    def __init__(self, s_name, m, f, a):\n",
    "        self.son_name=s_name\n",
    "        print(\"init of son\")\n",
    "        \n",
    "        super().__init__( m_name=m, f_name=f, f_age=a) #-->we can use any where above or below super() inside init only\n",
    "        \n",
    "        \n",
    "    def s_fun(self):\n",
    "        print(\"son class function\")\n",
    "        \n",
    "        "
   ]
  },
  {
   "cell_type": "code",
   "execution_count": null,
   "id": "ea51c4ca",
   "metadata": {},
   "outputs": [],
   "source": [
    "# creating a son class's object\n",
    "\n",
    "s=Son(\"SON NAME\",\"MOTHER NAME\",\"FATHER NAME\", \"FATHER AGE\")"
   ]
  },
  {
   "cell_type": "code",
   "execution_count": null,
   "id": "88d7e5af",
   "metadata": {},
   "outputs": [],
   "source": [
    "s.son_name, s.mother_name, s.father_name, s.father_age"
   ]
  },
  {
   "cell_type": "code",
   "execution_count": null,
   "id": "3d81ecc3",
   "metadata": {},
   "outputs": [],
   "source": [
    "s.s_fun(), s.m_fun(), s.f_fun()"
   ]
  },
  {
   "cell_type": "code",
   "execution_count": null,
   "id": "ecae3e58",
   "metadata": {},
   "outputs": [],
   "source": []
  }
 ],
 "metadata": {
  "kernelspec": {
   "display_name": "Python 3 (ipykernel)",
   "language": "python",
   "name": "python3"
  },
  "language_info": {
   "codemirror_mode": {
    "name": "ipython",
    "version": 3
   },
   "file_extension": ".py",
   "mimetype": "text/x-python",
   "name": "python",
   "nbconvert_exporter": "python",
   "pygments_lexer": "ipython3",
   "version": "3.8.9"
  }
 },
 "nbformat": 4,
 "nbformat_minor": 5
}
